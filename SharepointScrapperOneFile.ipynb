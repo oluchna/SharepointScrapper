{
 "cells": [
  {
   "cell_type": "code",
   "execution_count": 1,
   "id": "ee326000-e135-4fbf-a6ab-502bbd8c041e",
   "metadata": {},
   "outputs": [
    {
     "name": "stdout",
     "output_type": "stream",
     "text": [
      "Requirement already satisfied: Office365-REST-Python-Client in c:\\users\\admin3d8e3e7824\\appdata\\local\\programs\\python\\python311\\lib\\site-packages (2.5.2)\n",
      "Requirement already satisfied: requests in c:\\users\\admin3d8e3e7824\\appdata\\local\\programs\\python\\python311\\lib\\site-packages (from Office365-REST-Python-Client) (2.31.0)\n",
      "Requirement already satisfied: msal in c:\\users\\admin3d8e3e7824\\appdata\\local\\programs\\python\\python311\\lib\\site-packages (from Office365-REST-Python-Client) (1.25.0)\n",
      "Requirement already satisfied: pytz in c:\\users\\admin3d8e3e7824\\appdata\\local\\programs\\python\\python311\\lib\\site-packages (from Office365-REST-Python-Client) (2023.3)\n",
      "Requirement already satisfied: typing-extensions>=4.0.0 in c:\\users\\admin3d8e3e7824\\appdata\\local\\programs\\python\\python311\\lib\\site-packages (from Office365-REST-Python-Client) (4.6.3)\n",
      "Requirement already satisfied: PyJWT<3,>=1.0.0 in c:\\users\\admin3d8e3e7824\\appdata\\local\\programs\\python\\python311\\lib\\site-packages (from PyJWT[crypto]<3,>=1.0.0->msal->Office365-REST-Python-Client) (2.8.0)\n",
      "Requirement already satisfied: cryptography<44,>=0.6 in c:\\users\\admin3d8e3e7824\\appdata\\local\\programs\\python\\python311\\lib\\site-packages (from msal->Office365-REST-Python-Client) (41.0.5)\n",
      "Requirement already satisfied: charset-normalizer<4,>=2 in c:\\users\\admin3d8e3e7824\\appdata\\local\\programs\\python\\python311\\lib\\site-packages (from requests->Office365-REST-Python-Client) (3.1.0)\n",
      "Requirement already satisfied: idna<4,>=2.5 in c:\\users\\admin3d8e3e7824\\appdata\\local\\programs\\python\\python311\\lib\\site-packages (from requests->Office365-REST-Python-Client) (3.4)\n",
      "Requirement already satisfied: urllib3<3,>=1.21.1 in c:\\users\\admin3d8e3e7824\\appdata\\local\\programs\\python\\python311\\lib\\site-packages (from requests->Office365-REST-Python-Client) (1.26.18)\n",
      "Requirement already satisfied: certifi>=2017.4.17 in c:\\users\\admin3d8e3e7824\\appdata\\local\\programs\\python\\python311\\lib\\site-packages (from requests->Office365-REST-Python-Client) (2023.5.7)\n",
      "Requirement already satisfied: cffi>=1.12 in c:\\users\\admin3d8e3e7824\\appdata\\local\\programs\\python\\python311\\lib\\site-packages (from cryptography<44,>=0.6->msal->Office365-REST-Python-Client) (1.16.0)\n",
      "Requirement already satisfied: pycparser in c:\\users\\admin3d8e3e7824\\appdata\\local\\programs\\python\\python311\\lib\\site-packages (from cffi>=1.12->cryptography<44,>=0.6->msal->Office365-REST-Python-Client) (2.21)\n"
     ]
    }
   ],
   "source": [
    "!pip install Office365-REST-Python-Client"
   ]
  },
  {
   "cell_type": "code",
   "execution_count": 1,
   "id": "354e1a1d-7064-4d80-b775-1fd40c1a0c7e",
   "metadata": {},
   "outputs": [
    {
     "name": "stdout",
     "output_type": "stream",
     "text": [
      "Connected to SharePoint:  dev-kno-test\n",
      "Files downloaded\n"
     ]
    }
   ],
   "source": [
    "from office365.runtime.auth.client_credential import ClientCredential\n",
    "from office365.sharepoint.client_context import ClientContext\n",
    "from office365.sharepoint.files.file import File\n",
    "from collections.abc import Iterable\n",
    "\n",
    "def flatten_list(to_flatten_list):\n",
    "    for el in to_flatten_list:\n",
    "        if isinstance(el, Iterable) and not isinstance(el, (str, bytes)):\n",
    "            yield from flatten_list(el)\n",
    "        else:\n",
    "            yield el\n",
    "\n",
    "def connect_with_website(client_id: str, client_secret: str, site_url: str) -> ClientContext:\n",
    "    creds = ClientCredential(client_id, client_secret)\n",
    "    ctx = ClientContext(site_url).with_credentials(creds)\n",
    "    web = ctx.web\n",
    "    ctx.load(web)\n",
    "    ctx.execute_query()\n",
    "    print('Connected to SharePoint: ',web.properties['Title'])\n",
    "    return ctx\n",
    "\n",
    "def get_list_of_folder_paths(ctx, doc_url):\n",
    "    folders_list = []\n",
    "    root_folder = ctx.web.get_folder_by_server_relative_url(doc_url)\n",
    "    folders = root_folder.folders\n",
    "    ctx.load(folders)\n",
    "    ctx.execute_query()\n",
    "    for folder in folders:\n",
    "        full_path = doc_url + f\"/{folder}\"\n",
    "        folders_list.append(folder.properties['ServerRelativeUrl'])\n",
    "        folders_list.extend(get_list_of_folder_paths(ctx, full_path))\n",
    "    \n",
    "    return folders_list\n",
    "\n",
    "def get_file_path(ctx, folder_url):\n",
    "    files_list = {}\n",
    "    root_folder = ctx.web.get_folder_by_server_relative_url(folder_url)\n",
    "    root_folder.expand([\"Files\"]).get().execute_query()\n",
    "    for file in root_folder.files:\n",
    "        if file.properties['Name'][-4:] != 'aspx':\n",
    "            files_list[file.properties['Name']] = file.properties['ServerRelativeUrl']\n",
    "    return files_list\n",
    "\n",
    "def get_list_of_files_paths(ctx, folders):\n",
    "    files_list = []\n",
    "    files_names = []\n",
    "    for folder in folders:\n",
    "        files = get_file_path(ctx, folder)\n",
    "        if files.values():\n",
    "            files_list.append(files.values())\n",
    "            files_names.append(files.keys())\n",
    "    files_list = list(flatten_list(files_list))\n",
    "    files_names = list(flatten_list(files_names))\n",
    "    return files_list, files_names\n",
    "\n",
    "def save_files(ctx, file_names, file_paths, download_path):\n",
    "    for i, file_p in enumerate(file_paths):\n",
    "        response = File.open_binary(ctx, file_p)\n",
    "        save_path = download_path + \"\\\\\" + file_names[i]\n",
    "        with open(save_path, 'wb') as output_file:\n",
    "            output_file.write(response.content)\n",
    "    print(\"Files downloaded\")\n",
    "            \n",
    "\n",
    "if __name__ == \"__main__\":\n",
    "    client_id = \"\"\n",
    "    client_secret = \"\"\n",
    "    site_url = \"\"\n",
    "    folder_url_shrpt = \"\"\n",
    "    download_path = r\"\"\n",
    "\n",
    "    ctx = connect_with_website(client_id, client_secret, site_url)\n",
    "    folder_paths_list = get_list_of_folder_paths(ctx, folder_url_shrpt)\n",
    "    file_paths_list, files_names = get_list_of_files_paths(ctx, folder_paths_list)\n",
    "    save_files(ctx, files_names, file_paths_list, download_path)"
   ]
  },
  {
   "cell_type": "code",
   "execution_count": null,
   "id": "5c75f14a-0a35-490e-a644-f98813398f5a",
   "metadata": {},
   "outputs": [],
   "source": []
  }
 ],
 "metadata": {
  "kernelspec": {
   "display_name": "Python 3 (ipykernel)",
   "language": "python",
   "name": "python3"
  },
  "language_info": {
   "codemirror_mode": {
    "name": "ipython",
    "version": 3
   },
   "file_extension": ".py",
   "mimetype": "text/x-python",
   "name": "python",
   "nbconvert_exporter": "python",
   "pygments_lexer": "ipython3",
   "version": "3.11.3"
  }
 },
 "nbformat": 4,
 "nbformat_minor": 5
}
